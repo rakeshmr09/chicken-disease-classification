{
 "cells": [
  {
   "cell_type": "code",
   "execution_count": 37,
   "metadata": {},
   "outputs": [],
   "source": [
    "import os"
   ]
  },
  {
   "cell_type": "code",
   "execution_count": 38,
   "metadata": {},
   "outputs": [
    {
     "data": {
      "text/plain": [
       "'e:\\\\chicken-disease-classification'"
      ]
     },
     "execution_count": 38,
     "metadata": {},
     "output_type": "execute_result"
    }
   ],
   "source": [
    "%pwd"
   ]
  },
  {
   "cell_type": "code",
   "execution_count": 39,
   "metadata": {},
   "outputs": [
    {
     "data": {
      "text/plain": [
       "'e:\\\\chicken-disease-classification'"
      ]
     },
     "execution_count": 39,
     "metadata": {},
     "output_type": "execute_result"
    }
   ],
   "source": [
    "%pwd"
   ]
  },
  {
   "cell_type": "code",
   "execution_count": 40,
   "metadata": {},
   "outputs": [],
   "source": [
    "from dataclasses import dataclass\n",
    "from pathlib import Path\n",
    "\n",
    "\n",
    "@dataclass(frozen=True)\n",
    "class PrepareBaseModelConfig:\n",
    "    root_dir: Path\n",
    "    base_model_path: Path\n",
    "    updated_base_model_path: Path\n",
    "    params_image_size: list\n",
    "    params_learning_rate: float\n",
    "    params_include_top: bool\n",
    "    params_weights: str\n",
    "    params_classes: int\n",
    "    "
   ]
  },
  {
   "cell_type": "code",
   "execution_count": 41,
   "metadata": {},
   "outputs": [],
   "source": [
    "from cnnClassifier.constants import *\n",
    "from cnnClassifier.utils.common import read_yaml, create_directories"
   ]
  },
  {
   "cell_type": "code",
   "execution_count": 42,
   "metadata": {},
   "outputs": [],
   "source": [
    "class ConfigurationManager:\n",
    "    def __init__(\n",
    "        self,\n",
    "        config_file_path= CONFIG_FILE_PATH,\n",
    "        params_file_path= PARAMS_FILE_PATH):\n",
    "        \n",
    "        self.config=read_yaml(config_file_path)\n",
    "        self.params=read_yaml(params_file_path)\n",
    "        \n",
    "        create_directories([self.config.artifacts_root])\n",
    "        \n",
    "        \n",
    "    def get_prepare_base_model_config(self) -> PrepareBaseModelConfig:\n",
    "        config = self.config.prepare_base_model\n",
    "        \n",
    "        create_directories([config.root_dir])\n",
    "        \n",
    "        prepare_base_model_config = PrepareBaseModelConfig(\n",
    "            root_dir=Path(config.root_dir),\n",
    "            base_model_path=Path(config.base_model_path),\n",
    "            updated_base_model_path=Path(config.updated_base_model_path),\n",
    "            params_image_size=self.params.IMAGE_SIZE,\n",
    "            params_learning_rate= self.params.LEARNING_RATE,\n",
    "            params_include_top= self.params.INCLUDE_TOP,\n",
    "            params_weights=self.params.WEIGHTS,\n",
    "            params_classes= self.params.CLASSES\n",
    "        )   \n",
    "    \n",
    "        return prepare_base_model_config"
   ]
  },
  {
   "cell_type": "code",
   "execution_count": 43,
   "metadata": {},
   "outputs": [],
   "source": [
    "import os\n",
    "import urllib.request as request\n",
    "from zipfile import ZipFile\n",
    "import tensorflow as tf"
   ]
  },
  {
   "cell_type": "code",
   "execution_count": 49,
   "metadata": {},
   "outputs": [],
   "source": [
    "class PrepareBaseModel:\n",
    "    def __init__(self, config: PrepareBaseModelConfig):\n",
    "        self.config = config\n",
    "        \n",
    "        \n",
    "    def get_base_model(self):\n",
    "        self.model = tf.keras.applications.vgg16.VGG16(\n",
    "            input_shape=self.config.params_image_size,\n",
    "            weights= self.config.params_weights,\n",
    "            include_top=self.config.params_include_top\n",
    "        )\n",
    "        \n",
    "        self.save_model(path= self.config.base_model_path, model=self.model)\n",
    "        \n",
    "        \n",
    "        \n",
    "    @staticmethod   \n",
    "    def _prepare_full_model(model, classes, freeze_all, freeze_till, learning_rate):\n",
    "        if freeze_all:\n",
    "            for layer in model.layers:\n",
    "                model.trainable = False\n",
    "        elif (freeze_till is not None) and (freeze_till >0):\n",
    "            for layer in model.layers[:-freeze_till]:\n",
    "                model.trainable = False\n",
    "        flatten_in = tf.keras.layers.Flatten()(model.output)\n",
    "        prediction = tf.keras.layers.Dense(\n",
    "            units= classes,\n",
    "            activation= \"softmax\")(flatten_in) \n",
    "        \n",
    "        \n",
    "        full_model = tf.keras.models.Model(\n",
    "            inputs= model.input,\n",
    "            outputs = prediction\n",
    "        ) \n",
    "        \n",
    "        \n",
    "        full_model.compile(\n",
    "            optimizer= tf.keras.optimizers.SGD(learning_rate= learning_rate),\n",
    "            loss= tf.keras.losses.CategoricalCrossentropy,\n",
    "            metrics= [\"accuracy\"]\n",
    "        )    \n",
    "        \n",
    "        full_model.summary() \n",
    "        return full_model\n",
    "    \n",
    "    \n",
    "    def update_base_model(self):\n",
    "        self.full_model = self._prepare_full_model(\n",
    "            model =self.model,\n",
    "            classes= self.config.params_classes,\n",
    "            freeze_all= True,\n",
    "            freeze_till= None,\n",
    "            learning_rate= self.config.params_learning_rate)\n",
    "        \n",
    "        self.save_model(path= self.config.updated_base_model_path, model= self.full_model)\n",
    "        \n",
    "    @staticmethod\n",
    "    def save_model(path: Path, model: tf.keras.Model):\n",
    "        model.save(path)"
   ]
  },
  {
   "cell_type": "code",
   "execution_count": 50,
   "metadata": {},
   "outputs": [
    {
     "name": "stdout",
     "output_type": "stream",
     "text": [
      "[2023-09-26 20:59:57,290: INFO: common: yaml file: config\\config.yaml loaded successfully ]\n",
      "[2023-09-26 20:59:57,293: INFO: common: yaml file: params.yaml loaded successfully ]\n",
      "[2023-09-26 20:59:57,293: INFO: common: created directory at path :artifacts ]\n",
      "[2023-09-26 20:59:57,310: INFO: common: created directory at path :artifacts/prepare_base_model ]\n"
     ]
    },
    {
     "name": "stdout",
     "output_type": "stream",
     "text": [
      "[2023-09-26 20:59:59,094: WARNING: saving_utils: Compiled the loaded model, but the compiled metrics have yet to be built. `model.compile_metrics` will be empty until you train or evaluate the model. ]\n",
      "Model: \"model_3\"\n",
      "_________________________________________________________________\n",
      " Layer (type)                Output Shape              Param #   \n",
      "=================================================================\n",
      " input_8 (InputLayer)        [(None, 224, 224, 3)]     0         \n",
      "                                                                 \n",
      " block1_conv1 (Conv2D)       (None, 224, 224, 64)      1792      \n",
      "                                                                 \n",
      " block1_conv2 (Conv2D)       (None, 224, 224, 64)      36928     \n",
      "                                                                 \n",
      " block1_pool (MaxPooling2D)  (None, 112, 112, 64)      0         \n",
      "                                                                 \n",
      " block2_conv1 (Conv2D)       (None, 112, 112, 128)     73856     \n",
      "                                                                 \n",
      " block2_conv2 (Conv2D)       (None, 112, 112, 128)     147584    \n",
      "                                                                 \n",
      " block2_pool (MaxPooling2D)  (None, 56, 56, 128)       0         \n",
      "                                                                 \n",
      " block3_conv1 (Conv2D)       (None, 56, 56, 256)       295168    \n",
      "                                                                 \n",
      " block3_conv2 (Conv2D)       (None, 56, 56, 256)       590080    \n",
      "                                                                 \n",
      " block3_conv3 (Conv2D)       (None, 56, 56, 256)       590080    \n",
      "                                                                 \n",
      " block3_pool (MaxPooling2D)  (None, 28, 28, 256)       0         \n",
      "                                                                 \n",
      " block4_conv1 (Conv2D)       (None, 28, 28, 512)       1180160   \n",
      "                                                                 \n",
      " block4_conv2 (Conv2D)       (None, 28, 28, 512)       2359808   \n",
      "                                                                 \n",
      " block4_conv3 (Conv2D)       (None, 28, 28, 512)       2359808   \n",
      "                                                                 \n",
      " block4_pool (MaxPooling2D)  (None, 14, 14, 512)       0         \n",
      "                                                                 \n",
      " block5_conv1 (Conv2D)       (None, 14, 14, 512)       2359808   \n",
      "                                                                 \n",
      " block5_conv2 (Conv2D)       (None, 14, 14, 512)       2359808   \n",
      "                                                                 \n",
      " block5_conv3 (Conv2D)       (None, 14, 14, 512)       2359808   \n",
      "                                                                 \n",
      " block5_pool (MaxPooling2D)  (None, 7, 7, 512)         0         \n",
      "                                                                 \n",
      " flatten_3 (Flatten)         (None, 25088)             0         \n",
      "                                                                 \n",
      " dense_3 (Dense)             (None, 2)                 50178     \n",
      "                                                                 \n",
      "=================================================================\n",
      "Total params: 14764866 (56.32 MB)\n",
      "Trainable params: 50178 (196.01 KB)\n",
      "Non-trainable params: 14714688 (56.13 MB)\n",
      "_________________________________________________________________\n"
     ]
    },
    {
     "ename": "TypeError",
     "evalue": "LossFunctionWrapper.get_config() missing 1 required positional argument: 'self'",
     "output_type": "error",
     "traceback": [
      "\u001b[1;31m---------------------------------------------------------------------------\u001b[0m",
      "\u001b[1;31mTypeError\u001b[0m                                 Traceback (most recent call last)",
      "\u001b[1;32me:\\chicken-disease-classification\\research\\02_prepare_base_model.ipynb Cell 9\u001b[0m line \u001b[0;36m8\n\u001b[0;32m      <a href='vscode-notebook-cell:/e%3A/chicken-disease-classification/research/02_prepare_base_model.ipynb#X12sZmlsZQ%3D%3D?line=5'>6</a>\u001b[0m     prepare_base_model\u001b[39m.\u001b[39mupdate_base_model()\n\u001b[0;32m      <a href='vscode-notebook-cell:/e%3A/chicken-disease-classification/research/02_prepare_base_model.ipynb#X12sZmlsZQ%3D%3D?line=6'>7</a>\u001b[0m \u001b[39mexcept\u001b[39;00m \u001b[39mException\u001b[39;00m \u001b[39mas\u001b[39;00m e:\n\u001b[1;32m----> <a href='vscode-notebook-cell:/e%3A/chicken-disease-classification/research/02_prepare_base_model.ipynb#X12sZmlsZQ%3D%3D?line=7'>8</a>\u001b[0m     \u001b[39mraise\u001b[39;00m e\n",
      "\u001b[1;32me:\\chicken-disease-classification\\research\\02_prepare_base_model.ipynb Cell 9\u001b[0m line \u001b[0;36m6\n\u001b[0;32m      <a href='vscode-notebook-cell:/e%3A/chicken-disease-classification/research/02_prepare_base_model.ipynb#X12sZmlsZQ%3D%3D?line=3'>4</a>\u001b[0m     prepare_base_model \u001b[39m=\u001b[39m PrepareBaseModel(config\u001b[39m=\u001b[39mprepare_base_model_config)\n\u001b[0;32m      <a href='vscode-notebook-cell:/e%3A/chicken-disease-classification/research/02_prepare_base_model.ipynb#X12sZmlsZQ%3D%3D?line=4'>5</a>\u001b[0m     prepare_base_model\u001b[39m.\u001b[39mget_base_model()\n\u001b[1;32m----> <a href='vscode-notebook-cell:/e%3A/chicken-disease-classification/research/02_prepare_base_model.ipynb#X12sZmlsZQ%3D%3D?line=5'>6</a>\u001b[0m     prepare_base_model\u001b[39m.\u001b[39;49mupdate_base_model()\n\u001b[0;32m      <a href='vscode-notebook-cell:/e%3A/chicken-disease-classification/research/02_prepare_base_model.ipynb#X12sZmlsZQ%3D%3D?line=6'>7</a>\u001b[0m \u001b[39mexcept\u001b[39;00m \u001b[39mException\u001b[39;00m \u001b[39mas\u001b[39;00m e:\n\u001b[0;32m      <a href='vscode-notebook-cell:/e%3A/chicken-disease-classification/research/02_prepare_base_model.ipynb#X12sZmlsZQ%3D%3D?line=7'>8</a>\u001b[0m     \u001b[39mraise\u001b[39;00m e\n",
      "\u001b[1;32me:\\chicken-disease-classification\\research\\02_prepare_base_model.ipynb Cell 9\u001b[0m line \u001b[0;36m5\n\u001b[0;32m     <a href='vscode-notebook-cell:/e%3A/chicken-disease-classification/research/02_prepare_base_model.ipynb#X12sZmlsZQ%3D%3D?line=46'>47</a>\u001b[0m \u001b[39mdef\u001b[39;00m \u001b[39mupdate_base_model\u001b[39m(\u001b[39mself\u001b[39m):\n\u001b[0;32m     <a href='vscode-notebook-cell:/e%3A/chicken-disease-classification/research/02_prepare_base_model.ipynb#X12sZmlsZQ%3D%3D?line=47'>48</a>\u001b[0m     \u001b[39mself\u001b[39m\u001b[39m.\u001b[39mfull_model \u001b[39m=\u001b[39m \u001b[39mself\u001b[39m\u001b[39m.\u001b[39m_prepare_full_model(\n\u001b[0;32m     <a href='vscode-notebook-cell:/e%3A/chicken-disease-classification/research/02_prepare_base_model.ipynb#X12sZmlsZQ%3D%3D?line=48'>49</a>\u001b[0m         model \u001b[39m=\u001b[39m\u001b[39mself\u001b[39m\u001b[39m.\u001b[39mmodel,\n\u001b[0;32m     <a href='vscode-notebook-cell:/e%3A/chicken-disease-classification/research/02_prepare_base_model.ipynb#X12sZmlsZQ%3D%3D?line=49'>50</a>\u001b[0m         classes\u001b[39m=\u001b[39m \u001b[39mself\u001b[39m\u001b[39m.\u001b[39mconfig\u001b[39m.\u001b[39mparams_classes,\n\u001b[0;32m     <a href='vscode-notebook-cell:/e%3A/chicken-disease-classification/research/02_prepare_base_model.ipynb#X12sZmlsZQ%3D%3D?line=50'>51</a>\u001b[0m         freeze_all\u001b[39m=\u001b[39m \u001b[39mTrue\u001b[39;00m,\n\u001b[0;32m     <a href='vscode-notebook-cell:/e%3A/chicken-disease-classification/research/02_prepare_base_model.ipynb#X12sZmlsZQ%3D%3D?line=51'>52</a>\u001b[0m         freeze_till\u001b[39m=\u001b[39m \u001b[39mNone\u001b[39;00m,\n\u001b[0;32m     <a href='vscode-notebook-cell:/e%3A/chicken-disease-classification/research/02_prepare_base_model.ipynb#X12sZmlsZQ%3D%3D?line=52'>53</a>\u001b[0m         learning_rate\u001b[39m=\u001b[39m \u001b[39mself\u001b[39m\u001b[39m.\u001b[39mconfig\u001b[39m.\u001b[39mparams_learning_rate)\n\u001b[1;32m---> <a href='vscode-notebook-cell:/e%3A/chicken-disease-classification/research/02_prepare_base_model.ipynb#X12sZmlsZQ%3D%3D?line=54'>55</a>\u001b[0m     \u001b[39mself\u001b[39;49m\u001b[39m.\u001b[39;49msave_model(path\u001b[39m=\u001b[39;49m \u001b[39mself\u001b[39;49m\u001b[39m.\u001b[39;49mconfig\u001b[39m.\u001b[39;49mupdated_base_model_path, model\u001b[39m=\u001b[39;49m \u001b[39mself\u001b[39;49m\u001b[39m.\u001b[39;49mfull_model)\n",
      "\u001b[1;32me:\\chicken-disease-classification\\research\\02_prepare_base_model.ipynb Cell 9\u001b[0m line \u001b[0;36m5\n\u001b[0;32m     <a href='vscode-notebook-cell:/e%3A/chicken-disease-classification/research/02_prepare_base_model.ipynb#X12sZmlsZQ%3D%3D?line=56'>57</a>\u001b[0m \u001b[39m@staticmethod\u001b[39m\n\u001b[0;32m     <a href='vscode-notebook-cell:/e%3A/chicken-disease-classification/research/02_prepare_base_model.ipynb#X12sZmlsZQ%3D%3D?line=57'>58</a>\u001b[0m \u001b[39mdef\u001b[39;00m \u001b[39msave_model\u001b[39m(path: Path, model: tf\u001b[39m.\u001b[39mkeras\u001b[39m.\u001b[39mModel):\n\u001b[1;32m---> <a href='vscode-notebook-cell:/e%3A/chicken-disease-classification/research/02_prepare_base_model.ipynb#X12sZmlsZQ%3D%3D?line=58'>59</a>\u001b[0m     model\u001b[39m.\u001b[39;49msave(path)\n",
      "File \u001b[1;32m~\\AppData\\Roaming\\Python\\Python311\\site-packages\\keras\\src\\utils\\traceback_utils.py:70\u001b[0m, in \u001b[0;36mfilter_traceback.<locals>.error_handler\u001b[1;34m(*args, **kwargs)\u001b[0m\n\u001b[0;32m     67\u001b[0m     filtered_tb \u001b[39m=\u001b[39m _process_traceback_frames(e\u001b[39m.\u001b[39m__traceback__)\n\u001b[0;32m     68\u001b[0m     \u001b[39m# To get the full stack trace, call:\u001b[39;00m\n\u001b[0;32m     69\u001b[0m     \u001b[39m# `tf.debugging.disable_traceback_filtering()`\u001b[39;00m\n\u001b[1;32m---> 70\u001b[0m     \u001b[39mraise\u001b[39;00m e\u001b[39m.\u001b[39mwith_traceback(filtered_tb) \u001b[39mfrom\u001b[39;00m \u001b[39mNone\u001b[39;00m\n\u001b[0;32m     71\u001b[0m \u001b[39mfinally\u001b[39;00m:\n\u001b[0;32m     72\u001b[0m     \u001b[39mdel\u001b[39;00m filtered_tb\n",
      "File \u001b[1;32m~\\AppData\\Roaming\\Python\\Python311\\site-packages\\keras\\src\\saving\\legacy\\serialization.py:304\u001b[0m, in \u001b[0;36mserialize_keras_object\u001b[1;34m(instance)\u001b[0m\n\u001b[0;32m    302\u001b[0m name \u001b[39m=\u001b[39m object_registration\u001b[39m.\u001b[39mget_registered_name(instance\u001b[39m.\u001b[39m\u001b[39m__class__\u001b[39m)\n\u001b[0;32m    303\u001b[0m \u001b[39mtry\u001b[39;00m:\n\u001b[1;32m--> 304\u001b[0m     config \u001b[39m=\u001b[39m instance\u001b[39m.\u001b[39mget_config()\n\u001b[0;32m    305\u001b[0m \u001b[39mexcept\u001b[39;00m \u001b[39mNotImplementedError\u001b[39;00m \u001b[39mas\u001b[39;00m e:\n\u001b[0;32m    306\u001b[0m     \u001b[39mif\u001b[39;00m _SKIP_FAILED_SERIALIZATION:\n",
      "\u001b[1;31mTypeError\u001b[0m: LossFunctionWrapper.get_config() missing 1 required positional argument: 'self'"
     ]
    }
   ],
   "source": [
    "try:\n",
    "    config = ConfigurationManager()\n",
    "    prepare_base_model_config = config.get_prepare_base_model_config()\n",
    "    prepare_base_model = PrepareBaseModel(config=prepare_base_model_config)\n",
    "    prepare_base_model.get_base_model()\n",
    "    prepare_base_model.update_base_model()\n",
    "except Exception as e:\n",
    "    raise e"
   ]
  }
 ],
 "metadata": {
  "kernelspec": {
   "display_name": "chicken",
   "language": "python",
   "name": "python3"
  },
  "language_info": {
   "codemirror_mode": {
    "name": "ipython",
    "version": 3
   },
   "file_extension": ".py",
   "mimetype": "text/x-python",
   "name": "python",
   "nbconvert_exporter": "python",
   "pygments_lexer": "ipython3",
   "version": "3.11.4"
  },
  "orig_nbformat": 4
 },
 "nbformat": 4,
 "nbformat_minor": 2
}
